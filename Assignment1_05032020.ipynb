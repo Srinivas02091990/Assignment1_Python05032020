{
 "cells": [
  {
   "cell_type": "code",
   "execution_count": 1,
   "metadata": {},
   "outputs": [
    {
     "name": "stdout",
     "output_type": "stream",
     "text": [
      "Hello Python\n"
     ]
    }
   ],
   "source": [
    "# Assignment 1 --> Task1 -->Q1 -->  Simple Hellow World program\n",
    "str=\"Hello Python\"\n",
    "print(str)"
   ]
  },
  {
   "cell_type": "code",
   "execution_count": 1,
   "metadata": {},
   "outputs": [
    {
     "name": "stdout",
     "output_type": "stream",
     "text": [
      "2002,2009,2016,2023,2037,2044,2051,2058,2072,2079,2086,2093,2107,2114,2121,2128,2142,2149,2156,2163,2177,2184,2191,2198,2212,2219,2226,2233,2247,2254,2261,2268,2282,2289,2296,2303,2317,2324,2331,2338,2352,2359,2366,2373,2387,2394,2401,2408,2422,2429,2436,2443,2457,2464,2471,2478,2492,2499,2506,2513,2527,2534,2541,2548,2562,2569,2576,2583,2597,2604,2611,2618,2632,2639,2646,2653,2667,2674,2681,2688,2702,2709,2716,2723,2737,2744,2751,2758,2772,2779,2786,2793,2807,2814,2821,2828,2842,2849,2856,2863,2877,2884,2891,2898,2912,2919,2926,2933,2947,2954,2961,2968,2982,2989,2996,3003,3017,3024,3031,3038,3052,3059,3066,3073,3087,3094,3101,3108,3122,3129,3136,3143,3157,3164,3171,3178,3192,3199\n"
     ]
    }
   ],
   "source": [
    "# Assignment 1 --> Task1 -->Q2 -->  numbers divisible by 7 but not multipled by 5\n",
    "numbers=list(range(2000,3201))\n",
    "fin_list=[]\n",
    "for i in numbers:\n",
    "    if (i%7 == 0) and (i%5 !=0) :\n",
    "        fin_list.append(str(i)) \n",
    "print(','.join(fin_list))"
   ]
  },
  {
   "cell_type": "code",
   "execution_count": 1,
   "metadata": {},
   "outputs": [
    {
     "name": "stdout",
     "output_type": "stream",
     "text": [
      "Enter your first name:Srinivas\n",
      "Enter your last name:Guddanti\n",
      "Reverse order of first and last name of your name : Guddanti Srinivas\n"
     ]
    }
   ],
   "source": [
    "# Assignment 1 --> Task 1 --> Q3 --> Input from you for the first and last name. And print in the reverse order\n",
    "first_name=input(\"Enter your first name:\")\n",
    "last_name= input(\"Enter your last name:\")\n",
    "print(\"Reverse order of first and last name of your name : \" + last_name + \" \" + first_name)"
   ]
  },
  {
   "cell_type": "code",
   "execution_count": 1,
   "metadata": {},
   "outputs": [
    {
     "name": "stdout",
     "output_type": "stream",
     "text": [
      "Volume of the Sphere of 12 cm diameter is: 904.3199999999999\n"
     ]
    }
   ],
   "source": [
    "# Assignment 1 --> Task 1 --> Q4 --> Finding the volume of sphere from the given diameter 12 cm\n",
    "diam=12\n",
    "rad=diam/2\n",
    "pi=3.14\n",
    "Vol= 4.0/3.0*pi*rad**3\n",
    "print(\"Volume of the Sphere of 12 cm diameter is:\", Vol)"
   ]
  },
  {
   "cell_type": "code",
   "execution_count": 1,
   "metadata": {},
   "outputs": [
    {
     "name": "stdout",
     "output_type": "stream",
     "text": [
      "Please Enter numbers seperated by comma seperated:1,2,3,4,5,6\n",
      "List: ['1', '2', '3', '4', '5', '6']\n"
     ]
    }
   ],
   "source": [
    "# Assignment 1 --> Task 2 --> Q1 --> Generating list from the comma seperated input given by console\n",
    "numbers=input(\"Please Enter numbers seperated by comma seperated:\")\n",
    "list=numbers.split(',')\n",
    "print(\"List:\", list)"
   ]
  },
  {
   "cell_type": "code",
   "execution_count": 1,
   "metadata": {},
   "outputs": [
    {
     "name": "stdout",
     "output_type": "stream",
     "text": [
      " \n",
      "*  \n",
      "* *  \n",
      "* * *  \n",
      "* * * *  \n",
      "* * * * *  \n",
      "* * * *  \n",
      "* * *  \n",
      "* *  \n",
      "*  \n"
     ]
    }
   ],
   "source": [
    "# Assignment 1 --> Task 2 --> Q2 --> Print the pattern using nested for loop\n",
    "n=5\n",
    "for i in range(n):\n",
    "    for j in range(i):\n",
    "        print(\"*\", end=\" \")\n",
    "    print(\" \")\n",
    "\n",
    "for i in range(n,0,-1):\n",
    "    for j in range(i):\n",
    "        print(\"*\", end=\" \")\n",
    "    print(\" \")"
   ]
  },
  {
   "cell_type": "code",
   "execution_count": 1,
   "metadata": {},
   "outputs": [
    {
     "name": "stdout",
     "output_type": "stream",
     "text": [
      "Enter the word: SRINIVAS\n",
      "SAVINIRS\n",
      "\n"
     ]
    }
   ],
   "source": [
    "# Assignment 1 --> Task 2 --> Q3 --> Reverse the word input given by the user from console \n",
    "\n",
    "word=input(\"Enter the word: \")\n",
    "for c in range(len(word)-1,-1,-1):\n",
    "    print(word[c], end=\"\")\n",
    "print(\"\\n\")\n"
   ]
  },
  {
   "cell_type": "code",
   "execution_count": 1,
   "metadata": {},
   "outputs": [
    {
     "name": "stdout",
     "output_type": "stream",
     "text": [
      "WE, THE PEOPLE OF INDIA, \n",
      "\thaving solemnly resolved to constitute india into a SOVEREIGN, !\n",
      "\t\tSOCIALIST, SECULAR, DEMOCRATIC REPUBLIC \n",
      "\t\t and to secure to all its citizens\n"
     ]
    }
   ],
   "source": [
    "# Assignment 1 --> Task 2 --> Q4 --> Print the given string in the specified format of the output\n",
    "print(\"WE, THE PEOPLE OF INDIA, \\n\\thaving solemnly resolved to constitute india into a SOVEREIGN, !\\n\\t\\tSOCIALIST, SECULAR, DEMOCRATIC REPUBLIC \\n\\t\\t and to secure to all its citizens\")"
   ]
  },
  {
   "cell_type": "code",
   "execution_count": null,
   "metadata": {},
   "outputs": [],
   "source": []
  }
 ],
 "metadata": {
  "kernelspec": {
   "display_name": "Python 3",
   "language": "python",
   "name": "python3"
  },
  "language_info": {
   "codemirror_mode": {
    "name": "ipython",
    "version": 3
   },
   "file_extension": ".py",
   "mimetype": "text/x-python",
   "name": "python",
   "nbconvert_exporter": "python",
   "pygments_lexer": "ipython3",
   "version": "3.7.4"
  }
 },
 "nbformat": 4,
 "nbformat_minor": 2
}
